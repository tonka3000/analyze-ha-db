{
 "cells": [
  {
   "cell_type": "code",
   "execution_count": null,
   "metadata": {},
   "outputs": [],
   "source": [
    "import pandas as pd\n",
    "import sqlite3\n",
    "from IPython.display import display, Markdown\n",
    "pd.options.plotting.backend = \"plotly\"\n",
    "\n",
    "pd.set_option(\"max_colwidth\", 200)"
   ]
  },
  {
   "cell_type": "code",
   "execution_count": null,
   "metadata": {},
   "outputs": [],
   "source": [
    "db_filename = \"home-assistant_v2.db\"\n",
    "\n",
    "def print_md(text:str):\n",
    "    display(Markdown(text))\n",
    "\n",
    "def q(query:str):\n",
    "    with sqlite3.connect(db_filename) as con:\n",
    "        df = pd.read_sql_query(query, con)\n",
    "        return df\n"
   ]
  },
  {
   "cell_type": "code",
   "execution_count": null,
   "metadata": {},
   "outputs": [],
   "source": [
    "\n",
    "print_md(\"# States Usage\")\n",
    "states = q('''\n",
    "SELECT\n",
    "  COUNT(*) AS cnt,\n",
    "  COUNT(*) * 100 / (SELECT COUNT(*) FROM states) AS cnt_pct,\n",
    "  states_meta.entity_id\n",
    "FROM states\n",
    "INNER JOIN states_meta ON states.metadata_id=states_meta.metadata_id\n",
    "GROUP BY states_meta.entity_id\n",
    "ORDER BY cnt DESC\n",
    "''')\n",
    "#states = states[states.entity_id.str.contains(\"text here\")]\n",
    "#states = states[states.cnt > 5000]\n",
    "states.head(20)\n"
   ]
  },
  {
   "cell_type": "code",
   "execution_count": null,
   "metadata": {},
   "outputs": [],
   "source": [
    "states[[\"cnt\", \"entity_id\"]].sort_values(by=\"cnt\", ascending=True).set_index(\"cnt\").plot(kind=\"line\")"
   ]
  },
  {
   "cell_type": "code",
   "execution_count": null,
   "metadata": {},
   "outputs": [],
   "source": [
    "print_md(\"# Events\")\n",
    "q('''\n",
    "SELECT\n",
    "  COUNT(*) as cnt,\n",
    "  COUNT(*) * 100 / (SELECT COUNT(*) FROM events) AS cnt_pct,\n",
    "  event_types.event_type\n",
    "FROM events\n",
    "INNER JOIN event_types ON events.event_type_id = event_types.event_type_id\n",
    "GROUP BY event_types.event_type\n",
    "ORDER BY cnt DESC\n",
    "''').head(20)"
   ]
  }
 ],
 "metadata": {
  "kernelspec": {
   "display_name": "base",
   "language": "python",
   "name": "python3"
  },
  "language_info": {
   "codemirror_mode": {
    "name": "ipython",
    "version": 3
   },
   "file_extension": ".py",
   "mimetype": "text/x-python",
   "name": "python",
   "nbconvert_exporter": "python",
   "pygments_lexer": "ipython3",
   "version": "3.9.7"
  }
 },
 "nbformat": 4,
 "nbformat_minor": 2
}
