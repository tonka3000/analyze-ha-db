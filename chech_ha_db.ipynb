{
 "cells": [
  {
   "cell_type": "code",
   "execution_count": null,
   "metadata": {},
   "outputs": [],
   "source": [
    "import os\n",
    "import pandas as pd\n",
    "import sqlite3\n",
    "import shutil\n",
    "from IPython.display import display, Markdown\n",
    "pd.options.plotting.backend = \"plotly\"\n",
    "\n",
    "pd.set_option(\"max_colwidth\", 200)\n",
    "\n",
    "get_from_gdrive_backup = True # This option only works in Colab. The logged in Google Account needs to be the same as for your backup from Home Assistant. Set it to False if you want to copy the data manually.\n",
    "\n",
    "db_filename = \"home-assistant_v2.db\""
   ]
  },
  {
   "cell_type": "code",
   "execution_count": null,
   "metadata": {},
   "outputs": [],
   "source": [
    "is_colab = True if os.getenv(\"COLAB_RELEASE_TAG\") else False\n",
    "\n",
    "def print_md(text:str):\n",
    "    display(Markdown(text))\n",
    "\n",
    "def q(query:str):\n",
    "    with sqlite3.connect(db_filename) as con:\n",
    "        df = pd.read_sql_query(query, con)\n",
    "        return df\n",
    "\n",
    "def extract_file(tar_filename:str, filename:str, path=\".\"):\n",
    "    import tarfile\n",
    "    print(f\"Extract from {tar_filename}\")\n",
    "    with tarfile.open(tar_filename, 'r') as tar:\n",
    "        tar.extract(filename, path=path)\n",
    "\n",
    "def read_from_backup(filename:str):\n",
    "    tar_gz = \"./homeassistant.tar.gz\"\n",
    "    extract_file(filename, \"./homeassistant.tar.gz\", path=\"data\")\n",
    "    extract_file(os.path.join(\"data\", tar_gz), \"data/home-assistant_v2.db\")\n",
    "    shutil.move(\"data/home-assistant_v2.db\", \"home-assistant_v2.db\")\n",
    "\n",
    "def get_backup_filename_from_gdrive_snapshot():\n",
    "    snapshot_folder = os.path.join(gdrive_folder, \"MyDrive\", \"Home Assistant Snapshots\")\n",
    "    backups_filenames = backups_filenames = [e for e in os.listdir(snapshot_folder) if e.lower().startswith(\"core_\")]\n",
    "    if not backups_filenames:\n",
    "        raise Exception(\"Could not find backups in the snapshot older\")\n",
    "    backups_filenames = [os.path.join(snapshot_folder, e) for e in backups_filenames]\n",
    "    result = backups_filenames[0]\n",
    "    return result\n",
    "\n",
    "if is_colab and get_from_gdrive_backup and not os.path.exists(db_filename):\n",
    "    gdrive_folder = \"/gdrive\"\n",
    "    if is_colab:\n",
    "        from google.colab import drive\n",
    "        drive.mount(gdrive_folder)\n",
    "    read_from_backup(get_backup_filename_from_gdrive_snapshot())\n",
    "\n"
   ]
  },
  {
   "cell_type": "code",
   "execution_count": null,
   "metadata": {},
   "outputs": [],
   "source": [
    "\n",
    "print_md(\"# States Usage\")\n",
    "states = q('''\n",
    "SELECT\n",
    "  COUNT(*) AS cnt,\n",
    "  COUNT(*) * 100 / (SELECT COUNT(*) FROM states) AS cnt_pct,\n",
    "  states_meta.entity_id\n",
    "FROM states\n",
    "INNER JOIN states_meta ON states.metadata_id=states_meta.metadata_id\n",
    "GROUP BY states_meta.entity_id\n",
    "ORDER BY cnt DESC\n",
    "''')\n",
    "#states = states[states.entity_id.str.contains(\"text here\")]\n",
    "#states = states[states.cnt > 5000]\n",
    "states.head(20)\n"
   ]
  },
  {
   "cell_type": "code",
   "execution_count": null,
   "metadata": {},
   "outputs": [],
   "source": [
    "states[[\"cnt\", \"entity_id\"]].sort_values(by=\"cnt\", ascending=True).set_index(\"cnt\").plot(kind=\"line\")"
   ]
  },
  {
   "cell_type": "code",
   "execution_count": null,
   "metadata": {},
   "outputs": [],
   "source": [
    "print_md(\"# Events\")\n",
    "q('''\n",
    "SELECT\n",
    "  COUNT(*) as cnt,\n",
    "  COUNT(*) * 100 / (SELECT COUNT(*) FROM events) AS cnt_pct,\n",
    "  event_types.event_type\n",
    "FROM events\n",
    "INNER JOIN event_types ON events.event_type_id = event_types.event_type_id\n",
    "GROUP BY event_types.event_type\n",
    "ORDER BY cnt DESC\n",
    "''').head(20)"
   ]
  }
 ],
 "metadata": {
  "kernelspec": {
   "display_name": "base",
   "language": "python",
   "name": "python3"
  },
  "language_info": {
   "codemirror_mode": {
    "name": "ipython",
    "version": 3
   },
   "file_extension": ".py",
   "mimetype": "text/x-python",
   "name": "python",
   "nbconvert_exporter": "python",
   "pygments_lexer": "ipython3",
   "version": "3.9.7"
  }
 },
 "nbformat": 4,
 "nbformat_minor": 2
}
